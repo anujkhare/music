{
 "cells": [
  {
   "cell_type": "markdown",
   "metadata": {},
   "source": [
    "# Onsets demo!\n",
    "\n",
    "## Todos\n",
    "* [ ] Load the model\n",
    "* [ ] Specify a file\n",
    "* [ ] Predict the onsets\n",
    "    * [ ] Same pre-processing as in the dataset\n",
    "    * [ ] Might need to take multiple crops for sampling - start from 0, move\n",
    "* [ ] MIR eval\n",
    "* [ ] Visualize wave / spec\n",
    "* [ ] Demo\n",
    "    * [ ] Add empty space between the predicted onsets and join\n",
    "    * [ ] Play original and predicted side-by-side\n",
    "* [ ] Blog and host!"
   ]
  },
  {
   "cell_type": "code",
   "execution_count": null,
   "metadata": {},
   "outputs": [],
   "source": []
  }
 ],
 "metadata": {
  "kernelspec": {
   "display_name": "Python 3",
   "language": "python",
   "name": "python3"
  },
  "language_info": {
   "codemirror_mode": {
    "name": "ipython",
    "version": 3
   },
   "file_extension": ".py",
   "mimetype": "text/x-python",
   "name": "python",
   "nbconvert_exporter": "python",
   "pygments_lexer": "ipython3",
   "version": "3.6.8"
  }
 },
 "nbformat": 4,
 "nbformat_minor": 2
}
