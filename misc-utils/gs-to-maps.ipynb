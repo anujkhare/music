{
 "cells": [
  {
   "cell_type": "code",
   "execution_count": null,
   "metadata": {},
   "outputs": [],
   "source": [
    "%load_ext autoreload\n",
    "%autoreload 2"
   ]
  },
  {
   "cell_type": "code",
   "execution_count": null,
   "metadata": {},
   "outputs": [],
   "source": [
    "from tqdm import tqdm\n",
    "import jams\n",
    "import numpy as np\n",
    "import os\n",
    "import pandas as pd\n",
    "import pathlib"
   ]
  },
  {
   "cell_type": "code",
   "execution_count": null,
   "metadata": {},
   "outputs": [],
   "source": [
    "def convert_jams_annot_to_maps_annot(jams):\n",
    "    annots_per_string = jam.search(namespace='note_midi')\n",
    "    if len(annots_per_string) == 0:\n",
    "        raise ValueError\n",
    "    #     annos = jam.search(namespace='pitch_midi')\n",
    "\n",
    "    data = []\n",
    "    for notes in annots_per_string:\n",
    "        for note in notes:\n",
    "            start_time = note[0]\n",
    "            midi_note = int(np.round(note[2]))\n",
    "            data.append({\n",
    "                'OnsetTime': start_time,\n",
    "                'OffsetTime': start_time,\n",
    "                'MidiPitch': midi_note,\n",
    "            })\n",
    "    df_annot = pd.DataFrame(data)\n",
    "    return df_annot"
   ]
  },
  {
   "cell_type": "code",
   "execution_count": null,
   "metadata": {},
   "outputs": [],
   "source": [
    "path_to_data = pathlib.Path('/home/anuj/data/GuitarSet/originalhex')"
   ]
  },
  {
   "cell_type": "code",
   "execution_count": null,
   "metadata": {},
   "outputs": [],
   "source": [
    "for path_to_jams_annot in tqdm(list(path_to_data.glob('**/*.jams'))):\n",
    "    jam = jams.load(str(path_to_jams_annot))\n",
    "    df_maps_annot = convert_jams_annot_to_maps_annot(jam)\n",
    "    maps_annot_path = os.path.join(path_to_jams_annot.parent, path_to_jams_annot.stem + '_hex.txt')\n",
    "    df_maps_annot.to_csv(maps_annot_path, sep='\\t')"
   ]
  },
  {
   "cell_type": "code",
   "execution_count": null,
   "metadata": {},
   "outputs": [],
   "source": []
  },
  {
   "cell_type": "code",
   "execution_count": null,
   "metadata": {},
   "outputs": [],
   "source": []
  }
 ],
 "metadata": {
  "kernelspec": {
   "display_name": "Python 3",
   "language": "python",
   "name": "python3"
  },
  "language_info": {
   "codemirror_mode": {
    "name": "ipython",
    "version": 3
   },
   "file_extension": ".py",
   "mimetype": "text/x-python",
   "name": "python",
   "nbconvert_exporter": "python",
   "pygments_lexer": "ipython3",
   "version": "3.6.8"
  }
 },
 "nbformat": 4,
 "nbformat_minor": 2
}
