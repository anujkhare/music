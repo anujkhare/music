{
 "cells": [
  {
   "cell_type": "code",
   "execution_count": null,
   "metadata": {},
   "outputs": [],
   "source": [
    "import numpy as np\n",
    "import os\n",
    "import pathlib\n",
    "import shutil\n",
    "from tqdm import tqdm"
   ]
  },
  {
   "cell_type": "code",
   "execution_count": null,
   "metadata": {},
   "outputs": [],
   "source": []
  },
  {
   "cell_type": "markdown",
   "metadata": {},
   "source": [
    "## Creating a Test-Train split"
   ]
  },
  {
   "cell_type": "code",
   "execution_count": null,
   "metadata": {},
   "outputs": [],
   "source": [
    "def _copy_files_over(src_files, path_to_subset, copy, rm_existing: bool = False,):\n",
    "    if rm_existing and path_to_subset.exists():\n",
    "        shutil.rmtree(str(path_to_subset))\n",
    "    path_to_subset.mkdir(exist_ok=False, parents=True)\n",
    "\n",
    "    for path_to_src in tqdm(src_files):\n",
    "        src = path_to_src.absolute()\n",
    "        dest = path_to_subset.absolute() / (src.name)\n",
    "\n",
    "        if not src.exists():\n",
    "            raise FileNotFoundError(str(src))\n",
    "\n",
    "        if copy:\n",
    "            shutil.copy(str(src), str(dest))\n",
    "        else:\n",
    "            os.symlink(str(src), str(dest))"
   ]
  },
  {
   "cell_type": "code",
   "execution_count": null,
   "metadata": {},
   "outputs": [],
   "source": [
    "def create_train_val_splits(\n",
    "    path_to_data: pathlib.Path,\n",
    "    path_to_train_subset: pathlib.Path,\n",
    "    path_to_val_subset: pathlib.Path,\n",
    "    n_train: int, n_val: int,\n",
    "    copy: bool = False,\n",
    "    rm_existing: bool = False,\n",
    ") -> None:\n",
    "    if not path_to_data.exists():\n",
    "        raise ValueError\n",
    "\n",
    "    files = list(path_to_data.glob('**/*.wav'))\n",
    "    print(len(files))\n",
    "\n",
    "    # Take a random subset\n",
    "    subset = np.random.choice(files, size=n_train + n_val, replace=False)\n",
    "    \n",
    "    files_train = list(subset[:n_train])\n",
    "    files_val = list(subset[n_train:])\n",
    "    \n",
    "    assert len(np.unique(files_train)) == n_train\n",
    "    assert len(np.unique(files_val)) == n_val\n",
    "    \n",
    "    exts = ['.txt']\n",
    "    files_train_annots = get_annot_files_list(files_train, exts)\n",
    "    files_val_annots = get_annot_files_list(files_val, exts)\n",
    "    \n",
    "    _copy_files_over(src_files=files_train + files_train_annots, path_to_subset=path_to_train_subset, copy=copy, rm_existing=rm_existing)\n",
    "    _copy_files_over(src_files=files_val + files_val_annots, path_to_subset=path_to_val_subset, copy=copy, rm_existing=rm_existing)"
   ]
  },
  {
   "cell_type": "code",
   "execution_count": null,
   "metadata": {},
   "outputs": [],
   "source": [
    "def get_annot_files_list(files_list, exts):\n",
    "    files_list_annots = []\n",
    "    for ext in exts:\n",
    "        for file in files_list:\n",
    "            files_list_annots.append(file.with_suffix(ext).absolute())\n",
    "    return files_list_annots"
   ]
  },
  {
   "cell_type": "code",
   "execution_count": null,
   "metadata": {},
   "outputs": [],
   "source": [
    "src_files = list(pathlib.Path('/home/anuj/data/GuitarSet/audio/audio_hex-pickup_original/').glob('*.wav')) +\\\n",
    "            list(pathlib.Path('/home/anuj/data/GuitarSet/annotation/').glob('*.jams'))"
   ]
  },
  {
   "cell_type": "code",
   "execution_count": null,
   "metadata": {},
   "outputs": [],
   "source": [
    "_copy_files_over(src_files, pathlib.Path('/home/anuj/data/GuitarSet/originalhex'), copy=False, rm_existing=True)"
   ]
  },
  {
   "cell_type": "code",
   "execution_count": null,
   "metadata": {},
   "outputs": [],
   "source": [
    "create_train_val_splits(\n",
    "    path_to_data = pathlib.Path('/home/anuj/data/GuitarSet/originalhex'),\n",
    "    path_to_train_subset = pathlib.Path('/home/anuj/data/GuitarSet/originalhex-train'),\n",
    "    path_to_val_subset = pathlib.Path('/home/anuj/data/GuitarSet/originalhex-val'),\n",
    "    n_train=330,\n",
    "    n_val=30,\n",
    "    copy=False,\n",
    "    rm_existing=True,\n",
    ")"
   ]
  },
  {
   "cell_type": "code",
   "execution_count": null,
   "metadata": {},
   "outputs": [],
   "source": []
  }
 ],
 "metadata": {
  "kernelspec": {
   "display_name": "Python 3",
   "language": "python",
   "name": "python3"
  },
  "language_info": {
   "codemirror_mode": {
    "name": "ipython",
    "version": 3
   },
   "file_extension": ".py",
   "mimetype": "text/x-python",
   "name": "python",
   "nbconvert_exporter": "python",
   "pygments_lexer": "ipython3",
   "version": "3.6.8"
  }
 },
 "nbformat": 4,
 "nbformat_minor": 2
}
